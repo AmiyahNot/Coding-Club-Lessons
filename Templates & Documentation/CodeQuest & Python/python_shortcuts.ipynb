{
 "cells": [
  {
   "cell_type": "markdown",
   "metadata": {},
   "source": [
    "# Python List Comprehension, Mapping and Lambda Functions Guide"
   ]
  },
  {
   "cell_type": "markdown",
   "metadata": {},
   "source": [
    "## List Comprehension"
   ]
  },
  {
   "cell_type": "markdown",
   "metadata": {},
   "source": [
    "Python's List Comprehension feature is an extremely powerful tool. If done right, it can improve readability and productivity of code."
   ]
  },
  {
   "cell_type": "markdown",
   "metadata": {},
   "source": [
    "This is especially important for coding competitions, where every second counts. But it's important that every member of the team understands list comprehension, or it can hurt your team's cooperation."
   ]
  },
  {
   "cell_type": "markdown",
   "metadata": {},
   "source": [
    "### *List Comprehension Example*"
   ]
  },
  {
   "cell_type": "markdown",
   "metadata": {},
   "source": [
    "In the code below, an array of doubled numbers is generated with list comprehension.  "
   ]
  },
  {
   "cell_type": "code",
   "execution_count": 4,
   "metadata": {},
   "outputs": [
    {
     "name": "stdout",
     "output_type": "stream",
     "text": [
      "[-10, -8, -6, -4, -2, 0, 2, 4, 6, 8, 10]\n"
     ]
    }
   ],
   "source": [
    "# List Comprehension Example\n",
    "\n",
    "numbers = [2*num for num in range(-5, 6)]\n",
    "print(numbers)"
   ]
  },
  {
   "cell_type": "markdown",
   "metadata": {},
   "source": [
    "Using `range()`, it generates the array: `[-5, -4, -3, -2, -1, 0, 1, 2, 3, 4, 5]`"
   ]
  },
  {
   "cell_type": "code",
   "execution_count": 4,
   "metadata": {},
   "outputs": [
    {
     "name": "stdout",
     "output_type": "stream",
     "text": [
      "[-5, -4, -3, -2, -1, 0, 1, 2, 3, 4, 5]\n"
     ]
    }
   ],
   "source": [
    "print(list(range(-5, 6)))"
   ]
  },
  {
   "cell_type": "markdown",
   "metadata": {},
   "source": [
    "Next, it loops through the array with a for loop, and multiplies each value by 2."
   ]
  },
  {
   "cell_type": "markdown",
   "metadata": {},
   "source": [
    "Having the statement in brackets [] has a similar effect to appending values to an array"
   ]
  },
  {
   "cell_type": "code",
   "execution_count": 2,
   "metadata": {},
   "outputs": [
    {
     "name": "stdout",
     "output_type": "stream",
     "text": [
      "[-10, -8, -6, -4, -2, 0, 2, 4, 6, 8, 10]\n"
     ]
    }
   ],
   "source": [
    "vals = range(-5, 6)\n",
    "numbers = [] \n",
    "\n",
    "for num in vals:\n",
    "    numbers.append(2 * num)\n",
    "\n",
    "print(numbers)"
   ]
  },
  {
   "cell_type": "markdown",
   "metadata": {},
   "source": [
    "**This makes writing code more concise and direct. Every list comprehension used should have a singular purpose.**"
   ]
  },
  {
   "cell_type": "markdown",
   "metadata": {},
   "source": [
    "List comprehension works for other iterable data types as well, such as dictionaries"
   ]
  },
  {
   "cell_type": "code",
   "execution_count": 7,
   "metadata": {},
   "outputs": [
    {
     "name": "stdout",
     "output_type": "stream",
     "text": [
      "{'1': 2, '2': 4, '3': 6, '4': 8}\n"
     ]
    }
   ],
   "source": [
    "numbers = {str(num) : 2*num for num in range(1, 5)}\n",
    "print(numbers)"
   ]
  },
  {
   "cell_type": "markdown",
   "metadata": {},
   "source": [
    "However, tuples require a conversion because they can't be modified (since list comprehension acts like append)"
   ]
  },
  {
   "cell_type": "code",
   "execution_count": 8,
   "metadata": {},
   "outputs": [
    {
     "name": "stdout",
     "output_type": "stream",
     "text": [
      "(-10, -8, -6, -4, -2, 0, 2, 4, 6, 8, 10)\n"
     ]
    }
   ],
   "source": [
    "numbers = tuple([2*num for num in range(-5, 6)])\n",
    "print(numbers)"
   ]
  },
  {
   "cell_type": "markdown",
   "metadata": {},
   "source": [
    "## Mapping"
   ]
  },
  {
   "cell_type": "markdown",
   "metadata": {},
   "source": [
    "Mapping is another python feature that can make writing code faster. Although list comprehension can perform the same task, using a map() function can make the program more readable"
   ]
  },
  {
   "cell_type": "markdown",
   "metadata": {},
   "source": [
    "### *Mapping Example*"
   ]
  },
  {
   "cell_type": "markdown",
   "metadata": {},
   "source": [
    "The code below converts a list of integers into a list of strings with the map() function"
   ]
  },
  {
   "cell_type": "code",
   "execution_count": 9,
   "metadata": {},
   "outputs": [
    {
     "name": "stdout",
     "output_type": "stream",
     "text": [
      "['-5', '-4', '-3', '-2', '-1', '0', '1', '2', '3', '4', '5']\n"
     ]
    }
   ],
   "source": [
    "# Mapping Example\n",
    "\n",
    "# Converting integers to strings\n",
    "numbers = range(-5, 6)\n",
    "strings = list(map(str, numbers))\n",
    "\n",
    "print(strings)"
   ]
  },
  {
   "cell_type": "markdown",
   "metadata": {},
   "source": [
    "`map()` maps a function to each element of an iterable object"
   ]
  },
  {
   "cell_type": "markdown",
   "metadata": {},
   "source": [
    "`Usage: map(function, iterable)`"
   ]
  },
  {
   "cell_type": "markdown",
   "metadata": {},
   "source": [
    "The following code has the same effect as the map function:"
   ]
  },
  {
   "cell_type": "code",
   "execution_count": 10,
   "metadata": {},
   "outputs": [
    {
     "name": "stdout",
     "output_type": "stream",
     "text": [
      "['-5', '-4', '-3', '-2', '-1', '0', '1', '2', '3', '4', '5']\n"
     ]
    }
   ],
   "source": [
    "numbers = range(-5, 6)\n",
    "strings = []\n",
    "\n",
    "for num in numbers:\n",
    "    strings.append(str(num))\n",
    "\n",
    "print(strings)"
   ]
  },
  {
   "cell_type": "markdown",
   "metadata": {},
   "source": [
    "The `map` object needs to be converted to a `list` because map's `__str__` magic method doesn't format the same way as a list"
   ]
  },
  {
   "cell_type": "code",
   "execution_count": 13,
   "metadata": {},
   "outputs": [
    {
     "name": "stdout",
     "output_type": "stream",
     "text": [
      "<map object at 0x000001B40F5CA5F0>\n",
      "['1', '2']\n"
     ]
    }
   ],
   "source": [
    "print(map(str, [1, 2]).__str__())\n",
    "print(list(map(str, [1, 2])).__str__())"
   ]
  },
  {
   "cell_type": "markdown",
   "metadata": {},
   "source": [
    "## Lambda Functions"
   ]
  },
  {
   "cell_type": "markdown",
   "metadata": {},
   "source": [
    "Lambda functions are a useful Python feature that allow you to create snippets of simple functions when you don't need to declare them globally "
   ]
  },
  {
   "cell_type": "markdown",
   "metadata": {},
   "source": [
    "During coding competitons, this can be useful for managing variables and writing code faster, although it may be a little less readable"
   ]
  },
  {
   "cell_type": "markdown",
   "metadata": {},
   "source": [
    "### *Lambda Functions Example*"
   ]
  },
  {
   "cell_type": "markdown",
   "metadata": {},
   "source": [
    "The code below defines a lambda function f and returns the value of the function when x = 10."
   ]
  },
  {
   "cell_type": "code",
   "execution_count": 1,
   "metadata": {},
   "outputs": [
    {
     "name": "stdout",
     "output_type": "stream",
     "text": [
      "100\n"
     ]
    }
   ],
   "source": [
    "# Lambda Functions Example\n",
    "\n",
    "f = lambda x : x**2\n",
    "value = f(10)\n",
    "print(value)"
   ]
  },
  {
   "cell_type": "markdown",
   "metadata": {},
   "source": [
    "The code below has the same effect as a lambda function:"
   ]
  },
  {
   "cell_type": "code",
   "execution_count": 2,
   "metadata": {},
   "outputs": [
    {
     "name": "stdout",
     "output_type": "stream",
     "text": [
      "100\n"
     ]
    }
   ],
   "source": [
    "# Equivalent Expression\n",
    "\n",
    "def f(x):\n",
    "    return x**2\n",
    "\n",
    "value = f(10)\n",
    "print(value)"
   ]
  },
  {
   "cell_type": "markdown",
   "metadata": {},
   "source": [
    "One benefit of lambda functions is that you can pass it as a parameter without having to declare it globally"
   ]
  },
  {
   "cell_type": "code",
   "execution_count": 3,
   "metadata": {},
   "outputs": [
    {
     "name": "stdout",
     "output_type": "stream",
     "text": [
      "100\n"
     ]
    }
   ],
   "source": [
    "def f(g):\n",
    "    return g(10)\n",
    "\n",
    "# Can pass a lambda function into another function without defining a new function\n",
    "value = f(lambda x : x ** 2)\n",
    "print(value)"
   ]
  },
  {
   "cell_type": "markdown",
   "metadata": {},
   "source": [
    "Lambda functions can also be used to make code more consice and faster to write, like list comprehensions and the map function"
   ]
  },
  {
   "cell_type": "code",
   "execution_count": 9,
   "metadata": {},
   "outputs": [
    {
     "name": "stdout",
     "output_type": "stream",
     "text": [
      "Lambda and map:\t\t[-10, -8, -6, -4, -2, 0, 2, 4, 6, 8, 10]\n",
      "List Comprehension:\t[-10, -8, -6, -4, -2, 0, 2, 4, 6, 8, 10]\n",
      "Basic Method:\t\t[-10, -8, -6, -4, -2, 0, 2, 4, 6, 8, 10]\n"
     ]
    }
   ],
   "source": [
    "numbers = range(-5, 6)\n",
    "\n",
    "# Using lambda & map instead of list comprehension\n",
    "values = list(map(lambda x : 2*x, numbers))\n",
    "print(f\"Lambda and map:\\t\\t{values}\")\n",
    "\n",
    "# Equivalent list comprehension expression\n",
    "values2 = [2 * num for num in numbers]\n",
    "print(f\"List Comprehension:\\t{values2}\")\n",
    "\n",
    "# Equivalent code\n",
    "values3 = []\n",
    "for num in numbers:\n",
    "    values3.append(2*num)\n",
    "\n",
    "print(f\"Basic Method:\\t\\t{values3}\")"
   ]
  },
  {
   "cell_type": "markdown",
   "metadata": {},
   "source": [
    "This is especially useful when sorting by a key, because you normally don't need to use a key more than once."
   ]
  },
  {
   "cell_type": "code",
   "execution_count": 22,
   "metadata": {},
   "outputs": [
    {
     "name": "stdout",
     "output_type": "stream",
     "text": [
      "Randomly chosen characters:\t\t['n', 'p', 'B', 'S', 'n', 'L', 'b', 'd', 'U', 'c', 'h', 'B', 'z', 'M', 'd', 'O', 'N', 'O', 'q', 'W']\n",
      "Characters sorted by valid_chars:\t['b', 'c', 'd', 'd', 'h', 'n', 'n', 'p', 'q', 'z', 'B', 'B', 'L', 'M', 'N', 'O', 'O', 'S', 'U', 'W']\n"
     ]
    }
   ],
   "source": [
    "import random\n",
    "\n",
    "valid_chars = \"abcdefghijklmnopqrstuvwxyzABCDEFGHIJKLMNOPQRSTUVWXYZ\"\n",
    "\n",
    "# Generates 20 random characters by getting a random character from the string\n",
    "random_characters = [valid_chars[random.randint(0, len(valid_chars)-1)] for i in range(20)]\n",
    "print(f\"Randomly chosen characters:\\t\\t{random_characters}\")\n",
    "\n",
    "# Sorts characters based on their appearance in valid_chars\n",
    "sorted_array = sorted(random_characters, key = lambda x : valid_chars.index(x))\n",
    "\n",
    "print(f\"Characters sorted by valid_chars:\\t{sorted_array}\")"
   ]
  }
 ],
 "metadata": {
  "kernelspec": {
   "display_name": "Python 3",
   "language": "python",
   "name": "python3"
  },
  "language_info": {
   "codemirror_mode": {
    "name": "ipython",
    "version": 3
   },
   "file_extension": ".py",
   "mimetype": "text/x-python",
   "name": "python",
   "nbconvert_exporter": "python",
   "pygments_lexer": "ipython3",
   "version": "3.11.2"
  },
  "orig_nbformat": 4
 },
 "nbformat": 4,
 "nbformat_minor": 2
}
