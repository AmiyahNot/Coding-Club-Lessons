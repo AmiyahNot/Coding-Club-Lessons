{
 "cells": [
  {
   "cell_type": "markdown",
   "metadata": {},
   "source": [
    "# Data Structures in Python"
   ]
  },
  {
   "cell_type": "markdown",
   "metadata": {},
   "source": [
    "## Lists"
   ]
  },
  {
   "cell_type": "markdown",
   "metadata": {},
   "source": [
    "Lists are the most versatile data structures in Python. They can store data of any type in a list"
   ]
  },
  {
   "cell_type": "markdown",
   "metadata": {},
   "source": [
    "The following code gives an example on how to initialize a list:"
   ]
  },
  {
   "cell_type": "code",
   "execution_count": 41,
   "metadata": {},
   "outputs": [
    {
     "name": "stdout",
     "output_type": "stream",
     "text": [
      "[1, 2, 'abc', 25, -1.5, 3.1415]\n"
     ]
    }
   ],
   "source": [
    "data = [1, 2, \"abc\", 5**2, -1.5, 3.1415]\n",
    "print(data)"
   ]
  },
  {
   "cell_type": "markdown",
   "metadata": {},
   "source": [
    "The position of an item in a list is called the index. List indices start at 0 and go to N-1, where N is the number of items in the list"
   ]
  },
  {
   "cell_type": "markdown",
   "metadata": {},
   "source": [
    "The `range(num)` function creates a list of numbers ranging from 0 to num-1"
   ]
  },
  {
   "cell_type": "markdown",
   "metadata": {},
   "source": [
    "You can get the length of a list/number of items in a list with the `len(list)` function"
   ]
  },
  {
   "cell_type": "code",
   "execution_count": 40,
   "metadata": {},
   "outputs": [
    {
     "name": "stdout",
     "output_type": "stream",
     "text": [
      "Values:  [8, 2, 3, 6, 2, 1, 2]\n",
      "Indices: [0, 1, 2, 3, 4, 5, 6]\n"
     ]
    }
   ],
   "source": [
    "values = [8, 2, 3, 6, 2, 1, 2]\n",
    "\n",
    "length = len(values)\n",
    "indices = list(range(length))\n",
    "\n",
    "print(\"Values:  \" + str(values))\n",
    "print(\"Indices: \" + str(indices))"
   ]
  },
  {
   "cell_type": "markdown",
   "metadata": {},
   "source": [
    "Instead of initializing a list, another way to add data to a list is by appending or inserting it."
   ]
  },
  {
   "cell_type": "code",
   "execution_count": 45,
   "metadata": {},
   "outputs": [
    {
     "name": "stdout",
     "output_type": "stream",
     "text": [
      "['Add to beginning', 'Add to middle', 1, 'Add to end']\n"
     ]
    }
   ],
   "source": [
    "data = []\n",
    "\n",
    "# Appending adds item to the end of the list\n",
    "data.append(1)\n",
    "\n",
    "# Inserting inserts item at certain position in list\n",
    "data.insert(0, \"Add to beginning\")\n",
    "data.insert(1, \"Add to middle\")\n",
    "\n",
    "data.append(\"Add to end\")\n",
    "\n",
    "print(data)"
   ]
  },
  {
   "cell_type": "markdown",
   "metadata": {},
   "source": [
    "You can also remove items from a list in a few different ways"
   ]
  },
  {
   "cell_type": "markdown",
   "metadata": {},
   "source": [
    "`list.pop(index)` removes an item at a certain index of a list and returns the value that it removed"
   ]
  },
  {
   "cell_type": "markdown",
   "metadata": {},
   "source": [
    "`del list[index]` can also be used to remove an element at a certain index, without returning the value"
   ]
  },
  {
   "cell_type": "code",
   "execution_count": 48,
   "metadata": {},
   "outputs": [
    {
     "name": "stdout",
     "output_type": "stream",
     "text": [
      "[0, 1, 2, 3, 4, 5, 6]\n",
      "0\n",
      "[1, 2, 3, 4, 5, 6]\n",
      "[1, 2, 4, 5, 6]\n"
     ]
    }
   ],
   "source": [
    "data = [0, 1, 2, 3, 4, 5, 6]\n",
    "print(data)\n",
    "\n",
    "# Using pop to remove first element of list\n",
    "print(data.pop(0))\n",
    "\n",
    "print(data)\n",
    "\n",
    "# Using del to remove third element of list\n",
    "del data[2]\n",
    "\n",
    "print(data)"
   ]
  },
  {
   "cell_type": "markdown",
   "metadata": {},
   "source": [
    "To access a certain element in a list, you use the syntax: `list[index]`"
   ]
  },
  {
   "cell_type": "code",
   "execution_count": 50,
   "metadata": {},
   "outputs": [
    {
     "name": "stdout",
     "output_type": "stream",
     "text": [
      "6\n",
      "5\n"
     ]
    }
   ],
   "source": [
    "data = [6, 5, 4, 3, 2, 1, 0]\n",
    "\n",
    "# Gets first element of list\n",
    "print(data[0])\n",
    "\n",
    "# Gets second element of list\n",
    "print(data[1])"
   ]
  },
  {
   "cell_type": "markdown",
   "metadata": {},
   "source": [
    "By combining these properties, you can loop through a list to access elements of a list with for loops or while loops"
   ]
  },
  {
   "cell_type": "code",
   "execution_count": 52,
   "metadata": {},
   "outputs": [
    {
     "name": "stdout",
     "output_type": "stream",
     "text": [
      "6\n",
      "5\n",
      "4\n",
      "3\n",
      "2\n",
      "1\n",
      "0\n"
     ]
    }
   ],
   "source": [
    "data = [6, 5, 4, 3, 2, 1, 0]\n",
    "\n",
    "# While Loop Example\n",
    "\n",
    "index = 0\n",
    "while index < len(data):\n",
    "    print(data[index])\n",
    "    index += 1"
   ]
  },
  {
   "cell_type": "code",
   "execution_count": 53,
   "metadata": {},
   "outputs": [
    {
     "name": "stdout",
     "output_type": "stream",
     "text": [
      "6\n",
      "5\n",
      "4\n",
      "3\n",
      "2\n",
      "1\n",
      "0\n"
     ]
    }
   ],
   "source": [
    "data = [6, 5, 4, 3, 2, 1, 0]\n",
    "\n",
    "# For Loop Example\n",
    "\n",
    "for index in range(len(data)):\n",
    "    print(data[index])\n",
    "    index += 1"
   ]
  },
  {
   "cell_type": "markdown",
   "metadata": {},
   "source": [
    "## Tuples"
   ]
  },
  {
   "cell_type": "markdown",
   "metadata": {},
   "source": [
    "Tuples structure data similarly to lists, except they are immutable. This means that you can't change the values or size of a tuple"
   ]
  },
  {
   "cell_type": "code",
   "execution_count": 54,
   "metadata": {},
   "outputs": [
    {
     "ename": "TypeError",
     "evalue": "'tuple' object does not support item assignment",
     "output_type": "error",
     "traceback": [
      "\u001b[1;31m---------------------------------------------------------------------------\u001b[0m",
      "\u001b[1;31mTypeError\u001b[0m                                 Traceback (most recent call last)",
      "\u001b[1;32mc:\\Users\\0691177\\Documents\\GitHub\\Coding-Club-Lessons\\Templates & Documentation\\CodeQuest & Python\\data_structures.ipynb Cell 23\u001b[0m line \u001b[0;36m4\n\u001b[0;32m      <a href='vscode-notebook-cell:/c%3A/Users/0691177/Documents/GitHub/Coding-Club-Lessons/Templates%20%26%20Documentation/CodeQuest%20%26%20Python/data_structures.ipynb#Y145sZmlsZQ%3D%3D?line=0'>1</a>\u001b[0m \u001b[39m# Declare tuple\u001b[39;00m\n\u001b[0;32m      <a href='vscode-notebook-cell:/c%3A/Users/0691177/Documents/GitHub/Coding-Club-Lessons/Templates%20%26%20Documentation/CodeQuest%20%26%20Python/data_structures.ipynb#Y145sZmlsZQ%3D%3D?line=1'>2</a>\u001b[0m acceleration \u001b[39m=\u001b[39m (\u001b[39m1\u001b[39m, \u001b[39m2\u001b[39m)\n\u001b[1;32m----> <a href='vscode-notebook-cell:/c%3A/Users/0691177/Documents/GitHub/Coding-Club-Lessons/Templates%20%26%20Documentation/CodeQuest%20%26%20Python/data_structures.ipynb#Y145sZmlsZQ%3D%3D?line=3'>4</a>\u001b[0m acceleration[\u001b[39m0\u001b[39;49m] \u001b[39m=\u001b[39m \u001b[39m1\u001b[39m\n",
      "\u001b[1;31mTypeError\u001b[0m: 'tuple' object does not support item assignment"
     ]
    }
   ],
   "source": [
    "# Declare tuple\n",
    "acceleration = (1, 2)\n",
    "\n",
    "# Throws Error\n",
    "acceleration[0] = 1"
   ]
  },
  {
   "cell_type": "markdown",
   "metadata": {},
   "source": [
    "Similarly, deleting elements of a list is also not possible"
   ]
  },
  {
   "cell_type": "code",
   "execution_count": 55,
   "metadata": {},
   "outputs": [
    {
     "ename": "TypeError",
     "evalue": "'tuple' object doesn't support item deletion",
     "output_type": "error",
     "traceback": [
      "\u001b[1;31m---------------------------------------------------------------------------\u001b[0m",
      "\u001b[1;31mTypeError\u001b[0m                                 Traceback (most recent call last)",
      "\u001b[1;32mc:\\Users\\0691177\\Documents\\GitHub\\Coding-Club-Lessons\\Templates & Documentation\\CodeQuest & Python\\data_structures.ipynb Cell 24\u001b[0m line \u001b[0;36m4\n\u001b[0;32m      <a href='vscode-notebook-cell:/c%3A/Users/0691177/Documents/GitHub/Coding-Club-Lessons/Templates%20%26%20Documentation/CodeQuest%20%26%20Python/data_structures.ipynb#Y146sZmlsZQ%3D%3D?line=0'>1</a>\u001b[0m \u001b[39m# Declare tuple\u001b[39;00m\n\u001b[0;32m      <a href='vscode-notebook-cell:/c%3A/Users/0691177/Documents/GitHub/Coding-Club-Lessons/Templates%20%26%20Documentation/CodeQuest%20%26%20Python/data_structures.ipynb#Y146sZmlsZQ%3D%3D?line=1'>2</a>\u001b[0m acceleration \u001b[39m=\u001b[39m (\u001b[39m1\u001b[39m, \u001b[39m2\u001b[39m)\n\u001b[1;32m----> <a href='vscode-notebook-cell:/c%3A/Users/0691177/Documents/GitHub/Coding-Club-Lessons/Templates%20%26%20Documentation/CodeQuest%20%26%20Python/data_structures.ipynb#Y146sZmlsZQ%3D%3D?line=3'>4</a>\u001b[0m \u001b[39mdel\u001b[39;00m acceleration[\u001b[39m0\u001b[39;49m]\n",
      "\u001b[1;31mTypeError\u001b[0m: 'tuple' object doesn't support item deletion"
     ]
    }
   ],
   "source": [
    "# Declare tuple\n",
    "acceleration = (1, 2)\n",
    "\n",
    "# Throws Error\n",
    "del acceleration[0]"
   ]
  },
  {
   "cell_type": "markdown",
   "metadata": {},
   "source": [
    "This is useful for data that you know won't change in your code. It prevents you from accidentally changing it, which helps in the debugging process."
   ]
  },
  {
   "cell_type": "markdown",
   "metadata": {},
   "source": [
    "To convert a list into a tuple, unpacking or type conversion can be used."
   ]
  },
  {
   "cell_type": "code",
   "execution_count": 56,
   "metadata": {},
   "outputs": [
    {
     "name": "stdout",
     "output_type": "stream",
     "text": [
      "(1, 2, 3, 4)\n",
      "(1, 2, 3, 4)\n"
     ]
    }
   ],
   "source": [
    "data = [1, 2, 3, 4]\n",
    "\n",
    "# Unpacking\n",
    "tup1 = (*data,)\n",
    "\n",
    "# Converting\n",
    "tup2 = tuple(data)\n",
    "\n",
    "print(tup1)\n",
    "print(tup2)"
   ]
  },
  {
   "cell_type": "markdown",
   "metadata": {},
   "source": [
    "Tuples can also be iterated over, like lists."
   ]
  },
  {
   "cell_type": "markdown",
   "metadata": {},
   "source": [
    "## Dictionaries"
   ]
  },
  {
   "cell_type": "code",
   "execution_count": 57,
   "metadata": {},
   "outputs": [
    {
     "name": "stdout",
     "output_type": "stream",
     "text": [
      "1\n",
      "2\n",
      "3\n",
      "4\n"
     ]
    }
   ],
   "source": [
    "data = (1, 2, 3, 4)\n",
    "\n",
    "for i in range(len(data)):\n",
    "    print(data[i])"
   ]
  },
  {
   "cell_type": "markdown",
   "metadata": {},
   "source": [
    "Python dictionaries, also known as associative arrays/hash tables/hashmaps, are one of the most useful python data types"
   ]
  },
  {
   "cell_type": "markdown",
   "metadata": {},
   "source": [
    "Dictionaries can make code more consice, readable and faster."
   ]
  },
  {
   "cell_type": "markdown",
   "metadata": {},
   "source": [
    "### *Dictionary Example*"
   ]
  },
  {
   "cell_type": "markdown",
   "metadata": {},
   "source": [
    "In the following example, dictionaries are used to store data about people in a structured way"
   ]
  },
  {
   "cell_type": "code",
   "execution_count": 4,
   "metadata": {},
   "outputs": [
    {
     "name": "stdout",
     "output_type": "stream",
     "text": [
      "{'id': '0691177', 'age': 17}\n",
      "1234567\n"
     ]
    }
   ],
   "source": [
    "# Declare dictionary\n",
    "people_data = {}\n",
    "\n",
    "# Syntax for adding value in dictionary and initializing dictionary\n",
    "people_data[\"Julian\"] = {\"id\" : \"0691177\", \"age\" : 17}\n",
    "people_data[\"Jadon\"]  = {\"id\" : \"1234567\", \"age\" : 17}\n",
    "\n",
    "# Retrieving data from dictionary\n",
    "print(people_data[\"Julian\"])\n",
    "\n",
    "# Retrieving data from nested dictionary\n",
    "print(people_data[\"Jadon\"][\"id\"])"
   ]
  },
  {
   "cell_type": "markdown",
   "metadata": {},
   "source": [
    "Dictionaries can also be used to store previous calculations"
   ]
  },
  {
   "cell_type": "code",
   "execution_count": 9,
   "metadata": {},
   "outputs": [
    {
     "name": "stdout",
     "output_type": "stream",
     "text": [
      "-5: -125\n",
      "-2: -8\n"
     ]
    }
   ],
   "source": [
    "values = range(-5, 6)\n",
    "calculations = {str(x) : x**3 for x in values}\n",
    "\n",
    "print(f'-5: {calculations[\"-5\"]}')\n",
    "print(f'-2: {calculations[\"-2\"]}')"
   ]
  },
  {
   "cell_type": "markdown",
   "metadata": {},
   "source": [
    "Iterating through a dictionary is also possible, although this usually counters the benefits of using a dictionary"
   ]
  },
  {
   "cell_type": "code",
   "execution_count": 12,
   "metadata": {},
   "outputs": [
    {
     "name": "stdout",
     "output_type": "stream",
     "text": [
      "['-5', '-4', '-3', '-2', '-1', '0', '1', '2', '3', '4', '5']\n",
      "[-125, -64, -27, -8, -1, 0, 1, 8, 27, 64, 125]\n"
     ]
    }
   ],
   "source": [
    "values = range(-5, 6)\n",
    "calculations = {str(x) : x**3 for x in values}\n",
    "\n",
    "# Get keys from dictionary\n",
    "print(list(calculations.keys()))\n",
    "\n",
    "# Get values from dictionary\n",
    "print(list(calculations.values()))"
   ]
  },
  {
   "cell_type": "markdown",
   "metadata": {},
   "source": [
    "### *Technical Description of Dictionaries (Advanced)*"
   ]
  },
  {
   "cell_type": "markdown",
   "metadata": {},
   "source": [
    "Dictionaries are extra useful for storing data because of their O(1) time complexity for insertion and retrieval"
   ]
  },
  {
   "cell_type": "markdown",
   "metadata": {},
   "source": [
    "This means that you can search a dictionary without iterating through the entire dictionary and finding the value, like you would with lists."
   ]
  },
  {
   "cell_type": "markdown",
   "metadata": {},
   "source": [
    "*Example of O(n) time complexity:*"
   ]
  },
  {
   "cell_type": "code",
   "execution_count": 15,
   "metadata": {},
   "outputs": [
    {
     "name": "stdout",
     "output_type": "stream",
     "text": [
      "Index: 9\n"
     ]
    }
   ],
   "source": [
    "values = list(range(0, 10))\n",
    "\n",
    "search_value = 9\n",
    "\n",
    "index = 0\n",
    "for i in range(len(values)):\n",
    "    if values[i] == search_value:\n",
    "        index = i\n",
    "        break\n",
    "\n",
    "print(\"Index: \" + str(i))"
   ]
  },
  {
   "cell_type": "markdown",
   "metadata": {},
   "source": [
    "As you can see, in the worst case, when the value you are searching for is at the end of the list, you have to search the entire list to find the result"
   ]
  },
  {
   "cell_type": "markdown",
   "metadata": {},
   "source": [
    "Dictionaries and hashmaps, on the other hand, store data in a more clever way that allows them to be retrieved in O(1) time.  \n",
    "By computing the hash of the key, you will get an integer value that will be the same only for the same key.  \n",
    "Then, by taking the modulus of the hash by the buffer size, you can find the container that the key belongs to.  \n",
    "This splits the work down significantly, but to have a true O(1) hash map, there needs to be a unique container for every hash.  \n",
    "But because this takes up too much memory, you initialize a list with a specified buffer size instead. The result is near-O(1) performance with little memory overhead "
   ]
  },
  {
   "cell_type": "markdown",
   "metadata": {},
   "source": [
    "**Here is a simple hashmap/dictionary implementation in Python:**"
   ]
  },
  {
   "cell_type": "code",
   "execution_count": 61,
   "metadata": {},
   "outputs": [
    {
     "name": "stdout",
     "output_type": "stream",
     "text": [
      "Retrieving Data\n",
      "('Julian', '0691177')\n",
      "('Jadon', '1234567')\n",
      "\n",
      "Removing Items\n",
      "('Julian', '0691177')\n",
      "\n",
      "Other functions\n",
      "['Jadon', 'Nathan', 'person4']\n",
      "['1234567', '0912833', '1020934']\n",
      "[('Jadon', '1234567'), ('Nathan', '0912833'), ('person4', '1020934')]\n",
      "[('Jadon', '1234567'), ('Nathan', '0912833'), ('person4', '1020934')]\n"
     ]
    }
   ],
   "source": [
    "# Hashmap implementation with dynamic resizing and collision avoidance. \n",
    "# Dynamic resizing reduces the number of collisions, improving the retrieval time\n",
    "class HashMap:\n",
    "    def __init__(self, buffer_size : int = 64, load_factor : float = 0.75):\n",
    "        # Higher buffer size means less collisions, but more memory overhead\n",
    "        self.buffer = buffer_size\n",
    "        \n",
    "        # Specified what percentage of hashmap must be full before dynamically resizing\n",
    "        self.load_factor = load_factor\n",
    "\n",
    "        # Create list of items with buffer size\n",
    "        # _ variable is a filler variable, gets discarded after use\n",
    "        self.containers = [[] for _ in range(buffer_size)]\n",
    "\n",
    "        # Intialize list of all keys used in dictionary\n",
    "        self.stored_keys = []\n",
    "\n",
    "    # Method to dynamically resize hashmap after it reaches threshold\n",
    "    def _resize(self, new_size : int):\n",
    "        new_containers = [[] for _ in range(new_size)]\n",
    "\n",
    "        # construct a new hashmap with new buffer size\n",
    "        for key in self.stored_keys:\n",
    "            container = new_containers[hash(key) % new_size]\n",
    "            container.append(self.retrieve(key))\n",
    "        \n",
    "        # set the old container/buffer size to new container/buffer size\n",
    "        self.containers = new_containers\n",
    "        self.buffer = new_size\n",
    "\n",
    "    # Method to insert an item into the dictionary, dealing with collisions\n",
    "    def insert(self, key : str, value):\n",
    "        container = self.containers[hash(key) % self.buffer]\n",
    "\n",
    "        # Checking if key has already been used\n",
    "        index = -1\n",
    "        for i in range(len(container)):\n",
    "            if container[i][0] == key:\n",
    "                index = i\n",
    "                break\n",
    "                \n",
    "        # If it has been, overwrite the value\n",
    "        if index > -1:\n",
    "            container[index] = (key, value)\n",
    "            return\n",
    "\n",
    "        # If not, add it to the hashmap\n",
    "        container.append((key, value))\n",
    "\n",
    "        # Also add key to keys list\n",
    "        self.stored_keys.append(key)\n",
    "\n",
    "        # If number of keys exceeds load factor, double the size of the hashmap\n",
    "        if len(self.stored_keys) > self.load_factor * self.buffer:\n",
    "            new_size = self.buffer * 2\n",
    "            self._resize(new_size)\n",
    "    \n",
    "    # Method to retrieve an item from the dictionary\n",
    "    def retrieve(self, key : str):\n",
    "        container = self.containers[hash(key) % self.buffer]\n",
    "\n",
    "        # Check if item exists in container\n",
    "        index = -1\n",
    "        for i in range(len(container)):\n",
    "            if container[i][0] == key:\n",
    "                index = i\n",
    "                break\n",
    "        \n",
    "        # If it's not in dictionary, return None\n",
    "        if index == -1:\n",
    "            return None\n",
    "        \n",
    "        # If it is, return value\n",
    "        return container[index]\n",
    "    \n",
    "    # Method to remove an item from the dictionary\n",
    "    def remove(self, key : str):\n",
    "        container = self.containers[hash(key) % self.buffer]\n",
    "\n",
    "        # Check if item exists in container\n",
    "        index = -1\n",
    "        for i in range(len(container)):\n",
    "            if container[i][0] == key:\n",
    "                index = i\n",
    "                break\n",
    "\n",
    "        # If it's not in dictionary, return None\n",
    "        if index == -1:\n",
    "            return None\n",
    "        \n",
    "\n",
    "        # Delete key and value in container\n",
    "        del self.stored_keys[self.stored_keys.index(key)]\n",
    "\n",
    "        return container.pop(index)\n",
    "\n",
    "    # returns keys used in dictionary\n",
    "    def keys(self):\n",
    "        return self.stored_keys\n",
    "\n",
    "    # return values stored in dictionary\n",
    "    def values(self):\n",
    "        return [self.retrieve(key)[1] for key in self.stored_keys]\n",
    "        \n",
    "    # return all items in dictionary\n",
    "    def items(self):\n",
    "        return [self.retrieve(key) for key in self.stored_keys]\n",
    "\n",
    "    def __str__(self) -> str:\n",
    "        return str(self.items())\n",
    "\n",
    "# Initialize HashMap\n",
    "people_ids = HashMap()\n",
    "\n",
    "# Add items to hashmap\n",
    "people_ids.insert(\"Julian\", \"0691177\")\n",
    "people_ids.insert(\"Jadon\", \"1234567\")\n",
    "people_ids.insert(\"Nathan\", \"0912833\")\n",
    "people_ids.insert(\"person4\", \"1020934\")\n",
    "\n",
    "# Retrieve data from hashmap\n",
    "print(\"Retrieving Data\")\n",
    "print(people_ids.retrieve(\"Julian\"))\n",
    "print(people_ids.retrieve(\"Jadon\"))\n",
    "print()\n",
    "\n",
    "# Remove items from hashmap\n",
    "print(\"Removing Items\")\n",
    "print(people_ids.remove(\"Julian\"))\n",
    "print()\n",
    "\n",
    "print(\"Other functions\")\n",
    "# keys, values and items methods\n",
    "print(people_ids.keys())\n",
    "print(people_ids.values())\n",
    "print(people_ids.items())\n",
    "print(people_ids)"
   ]
  }
 ],
 "metadata": {
  "kernelspec": {
   "display_name": "Python 3",
   "language": "python",
   "name": "python3"
  },
  "language_info": {
   "codemirror_mode": {
    "name": "ipython",
    "version": 3
   },
   "file_extension": ".py",
   "mimetype": "text/x-python",
   "name": "python",
   "nbconvert_exporter": "python",
   "pygments_lexer": "ipython3",
   "version": "3.11.2"
  },
  "orig_nbformat": 4
 },
 "nbformat": 4,
 "nbformat_minor": 2
}
