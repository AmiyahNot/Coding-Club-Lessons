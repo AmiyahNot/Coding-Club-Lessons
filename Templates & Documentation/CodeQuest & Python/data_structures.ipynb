{
 "cells": [
  {
   "cell_type": "markdown",
   "metadata": {},
   "source": [
    "# Data Structures in Python"
   ]
  },
  {
   "cell_type": "markdown",
   "metadata": {},
   "source": [
    "## Lists"
   ]
  },
  {
   "cell_type": "markdown",
   "metadata": {},
   "source": [
    "## Tuples"
   ]
  },
  {
   "cell_type": "markdown",
   "metadata": {},
   "source": [
    "## Dictionaries"
   ]
  },
  {
   "cell_type": "markdown",
   "metadata": {},
   "source": [
    "Python dictionaries, also known as associative arrays/hash tables/hashmaps, are one of the most useful python data types"
   ]
  },
  {
   "cell_type": "markdown",
   "metadata": {},
   "source": [
    "Dictionaries can make code more consice, readable and faster."
   ]
  },
  {
   "cell_type": "markdown",
   "metadata": {},
   "source": [
    "### *Dictionary Example*"
   ]
  },
  {
   "cell_type": "markdown",
   "metadata": {},
   "source": [
    "In the following example, dictionaries are used to store data about people in a structured way"
   ]
  },
  {
   "cell_type": "code",
   "execution_count": 4,
   "metadata": {},
   "outputs": [
    {
     "name": "stdout",
     "output_type": "stream",
     "text": [
      "{'id': '0691177', 'age': 17}\n",
      "1234567\n"
     ]
    }
   ],
   "source": [
    "# Declare dictionary\n",
    "people_data = {}\n",
    "\n",
    "# Syntax for adding value in dictionary and initializing dictionary\n",
    "people_data[\"Julian\"] = {\"id\" : \"0691177\", \"age\" : 17}\n",
    "people_data[\"Jadon\"]  = {\"id\" : \"1234567\", \"age\" : 17}\n",
    "\n",
    "# Retrieving data from dictionary\n",
    "print(people_data[\"Julian\"])\n",
    "\n",
    "# Retrieving data from nested dictionary\n",
    "print(people_data[\"Jadon\"][\"id\"])"
   ]
  },
  {
   "cell_type": "markdown",
   "metadata": {},
   "source": [
    "Dictionaries can also be used to store previous calculations"
   ]
  },
  {
   "cell_type": "code",
   "execution_count": 9,
   "metadata": {},
   "outputs": [
    {
     "name": "stdout",
     "output_type": "stream",
     "text": [
      "-5: -125\n",
      "-2: -8\n"
     ]
    }
   ],
   "source": [
    "values = range(-5, 6)\n",
    "calculations = {str(x) : x**3 for x in values}\n",
    "\n",
    "print(f'-5: {calculations[\"-5\"]}')\n",
    "print(f'-2: {calculations[\"-2\"]}')"
   ]
  },
  {
   "cell_type": "markdown",
   "metadata": {},
   "source": [
    "Iterating through a dictionary is also possible, although this usually counters the benefits of using a dictionary"
   ]
  },
  {
   "cell_type": "code",
   "execution_count": 12,
   "metadata": {},
   "outputs": [
    {
     "name": "stdout",
     "output_type": "stream",
     "text": [
      "['-5', '-4', '-3', '-2', '-1', '0', '1', '2', '3', '4', '5']\n",
      "[-125, -64, -27, -8, -1, 0, 1, 8, 27, 64, 125]\n"
     ]
    }
   ],
   "source": [
    "values = range(-5, 6)\n",
    "calculations = {str(x) : x**3 for x in values}\n",
    "\n",
    "# Get keys from dictionary\n",
    "print(list(calculations.keys()))\n",
    "\n",
    "# Get values from dictionary\n",
    "print(list(calculations.values()))"
   ]
  },
  {
   "cell_type": "markdown",
   "metadata": {},
   "source": [
    "### *Technical Description of Dictionaries (Advanced)*"
   ]
  },
  {
   "cell_type": "markdown",
   "metadata": {},
   "source": [
    "Dictionaries are extra useful for storing data because of their O(1) time complexity for insertion and retrieval"
   ]
  },
  {
   "cell_type": "markdown",
   "metadata": {},
   "source": [
    "This means that you can search a dictionary without iterating through the entire dictionary and finding the value, like you would with lists."
   ]
  },
  {
   "cell_type": "markdown",
   "metadata": {},
   "source": [
    "*Example of O(n) time complexity:*"
   ]
  },
  {
   "cell_type": "code",
   "execution_count": 15,
   "metadata": {},
   "outputs": [
    {
     "name": "stdout",
     "output_type": "stream",
     "text": [
      "Index: 9\n"
     ]
    }
   ],
   "source": [
    "values = list(range(0, 10))\n",
    "\n",
    "search_value = 9\n",
    "\n",
    "index = 0\n",
    "for i in range(len(values)):\n",
    "    if values[i] == search_value:\n",
    "        index = i\n",
    "        break\n",
    "\n",
    "print(\"Index: \" + str(i))"
   ]
  },
  {
   "cell_type": "markdown",
   "metadata": {},
   "source": [
    "As you can see, in the worst case, when the value you are searching for is at the end of the list, you have to search the entire list to find the result"
   ]
  },
  {
   "cell_type": "markdown",
   "metadata": {},
   "source": [
    "**Here is a simple hashmap/dictionary implementation in Python:**"
   ]
  },
  {
   "cell_type": "code",
   "execution_count": 34,
   "metadata": {},
   "outputs": [
    {
     "name": "stdout",
     "output_type": "stream",
     "text": [
      "('Julian', '0691177')\n",
      "('Jadon', '1234567')\n",
      "['Jadon', 'person3', 'person4']\n",
      "['1234567', '0912833', '1020934']\n",
      "[('Jadon', '1234567'), ('person3', '0912833'), ('person4', '1020934')]\n"
     ]
    }
   ],
   "source": [
    "class HashMap:\n",
    "    def __init__(self, buffer_size : int):\n",
    "        # Higher buffer size means less collisions, but more memory overhead\n",
    "        self.buffer = buffer_size\n",
    "        \n",
    "        # Create list of items with buffer size\n",
    "        self.containers = [[] for i in range(buffer_size)]\n",
    "\n",
    "        # Intialize list of all keys used in dictionary\n",
    "        self.stored_keys = []\n",
    "\n",
    "    # Method to insert an item into the dictionary, dealing with collisions\n",
    "    def insert(self, key : str, value):\n",
    "        container = self.containers[hash(key) % self.buffer]\n",
    "\n",
    "        # Checking if key has already been used\n",
    "        index = -1\n",
    "        for i in range(len(container)):\n",
    "            if container[i][0] == key:\n",
    "                index = i\n",
    "                break\n",
    "                \n",
    "        # If it has been, overwrite the value\n",
    "        if index > -1:\n",
    "            container[index] = (key, value)\n",
    "            return\n",
    "\n",
    "        # If not, add it to the hashmap\n",
    "        container.append((key, value))\n",
    "\n",
    "        # Also add key to keys list\n",
    "        self.stored_keys.append(key)\n",
    "    \n",
    "    # Method to retrieve an item from the dictionary\n",
    "    def retrieve(self, key : str):\n",
    "        container = self.containers[hash(key) % self.buffer]\n",
    "\n",
    "        # Check if item exists in container\n",
    "        index = -1\n",
    "        for i in range(len(container)):\n",
    "            if container[i][0] == key:\n",
    "                index = i\n",
    "                break\n",
    "        \n",
    "        # If it's not in dictionary, return None\n",
    "        if index == -1:\n",
    "            return None\n",
    "        \n",
    "        # If it is, return value\n",
    "        return container[index]\n",
    "    \n",
    "    # Method to remove an item from the dictionary\n",
    "    def remove(self, key : str):\n",
    "        container = self.containers[hash(key) % self.buffer]\n",
    "\n",
    "        # Check if item exists in container\n",
    "        index = -1\n",
    "        for i in range(len(container)):\n",
    "            if container[i][0] == key:\n",
    "                index = i\n",
    "                break\n",
    "\n",
    "        # If it's not in dictionary, return None\n",
    "        if index == -1:\n",
    "            return None\n",
    "        \n",
    "        value = container[index]\n",
    "\n",
    "        del self.stored_keys[self.stored_keys.index(key)]\n",
    "        del container[index]\n",
    "\n",
    "        return value\n",
    "\n",
    "    # returns keys used in dictionary\n",
    "    def keys(self):\n",
    "        return self.stored_keys\n",
    "\n",
    "    # return values stored in dictionary\n",
    "    def values(self):\n",
    "        return [self.retrieve(key)[1] for key in self.stored_keys]\n",
    "        \n",
    "    # return all items in dictionary\n",
    "    def items(self):\n",
    "        return [self.retrieve(key) for key in self.stored_keys]\n",
    "\n",
    "# Initialize HashMap\n",
    "people_ids = HashMap(64)\n",
    "\n",
    "people_ids.insert(\"Julian\", \"0691177\")\n",
    "people_ids.insert(\"Jadon\", \"1234567\")\n",
    "people_ids.insert(\"person3\", \"0912833\")\n",
    "people_ids.insert(\"person4\", \"1020934\")\n",
    "\n",
    "print(people_ids.retrieve(\"Julian\"))\n",
    "print(people_ids.retrieve(\"Jadon\"))\n",
    "\n",
    "people_ids.remove(\"Julian\")\n",
    "\n",
    "print(people_ids.keys())\n",
    "print(people_ids.values())\n",
    "print(people_ids.items())"
   ]
  }
 ],
 "metadata": {
  "kernelspec": {
   "display_name": "Python 3",
   "language": "python",
   "name": "python3"
  },
  "language_info": {
   "codemirror_mode": {
    "name": "ipython",
    "version": 3
   },
   "file_extension": ".py",
   "mimetype": "text/x-python",
   "name": "python",
   "nbconvert_exporter": "python",
   "pygments_lexer": "ipython3",
   "version": "3.11.2"
  },
  "orig_nbformat": 4
 },
 "nbformat": 4,
 "nbformat_minor": 2
}
