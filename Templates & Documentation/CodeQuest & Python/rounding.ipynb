{
 "cells": [
  {
   "cell_type": "markdown",
   "metadata": {},
   "source": [
    "# CodeQuest Rounding Guide"
   ]
  },
  {
   "cell_type": "markdown",
   "metadata": {},
   "source": [
    "Useful Rounding Documentation: https://en.wikipedia.org/wiki/Rounding#Rounding_to_integer"
   ]
  },
  {
   "cell_type": "markdown",
   "metadata": {},
   "source": [
    "Some CodeQuest problems require different rounding methods than others."
   ]
  },
  {
   "cell_type": "markdown",
   "metadata": {},
   "source": [
    "### Method 1: Banker's Rounding (Half Even Up Rounding)"
   ]
  },
  {
   "cell_type": "markdown",
   "metadata": {},
   "source": [
    "Python's built-in rounding function uses a method called Banker's rounding, which is different than the traditional rounding you learned in school"
   ]
  },
  {
   "cell_type": "code",
   "execution_count": 15,
   "metadata": {},
   "outputs": [
    {
     "name": "stdout",
     "output_type": "stream",
     "text": [
      "Previous -> Rounded\n",
      "0.5 -> 0\n",
      "1.5 -> 2\n",
      "2.5 -> 2\n",
      "3.5 -> 4\n",
      "4.5 -> 4\n",
      "5.5 -> 6\n",
      "6.5 -> 6\n",
      "7.5 -> 8\n",
      "8.5 -> 8\n",
      "9.5 -> 10\n",
      "10.5 -> 10\n"
     ]
    }
   ],
   "source": [
    "# Banker's Rounding Example\n",
    "\n",
    "# Generate test_nums from 0.5 to test_nums + 0.5\n",
    "test_nums = 10\n",
    "numbers = range(test_nums + 1)\n",
    "\n",
    "result = [f\"{num + 0.5} -> {round(num + 0.5)}\" for num in numbers]\n",
    "print(\"Previous -> Rounded\")\n",
    "print('\\n'.join(result))"
   ]
  },
  {
   "cell_type": "markdown",
   "metadata": {},
   "source": [
    "Numbers aren't rounded intuitively, and some questions might ask for numbers to be rounded up instead. It's important to take this into consideration when solving CodeQuest problems."
   ]
  },
  {
   "cell_type": "markdown",
   "metadata": {},
   "source": [
    "### Method 2: Half Up Rounding"
   ]
  },
  {
   "cell_type": "markdown",
   "metadata": {},
   "source": [
    "Half-Up Rounding is the traditional rounding method.  \n",
    "It rounds any number ending with 0.5 or greater up, and any number ending less than 0.5 down"
   ]
  },
  {
   "cell_type": "code",
   "execution_count": 46,
   "metadata": {},
   "outputs": [
    {
     "name": "stdout",
     "output_type": "stream",
     "text": [
      "Previous -> Rounded\n",
      "0.4 -> 0\n",
      "0.5 -> 1\n",
      "1.4 -> 1\n",
      "1.5 -> 2\n",
      "2.4 -> 2\n",
      "2.5 -> 3\n",
      "3.4 -> 3\n",
      "3.5 -> 4\n",
      "4.4 -> 4\n",
      "4.5 -> 5\n",
      "5.4 -> 5\n",
      "5.5 -> 6\n"
     ]
    }
   ],
   "source": [
    "# Half Up Rounding Example\n",
    "\n",
    "import math\n",
    "\n",
    "def halfup(num):\n",
    "    return math.floor(num + 0.5)\n",
    "\n",
    "# Generate test_nums from 0.5 to test_nums + 0.5\n",
    "test_nums = 5\n",
    "numbers = range(test_nums + 1)\n",
    "\n",
    "result = [f\"{num + 0.4} -> {halfup(num + 0.4)}\\n{num + 0.5} -> {halfup(num + 0.5)}\" for num in numbers]\n",
    "print(\"Previous -> Rounded\")\n",
    "print('\\n'.join(result))"
   ]
  },
  {
   "cell_type": "markdown",
   "metadata": {},
   "source": [
    "### Method 3: Rounding to decimal places with trailing zeroes"
   ]
  },
  {
   "cell_type": "markdown",
   "metadata": {},
   "source": [
    "Many CodeQuest problems require rounding to a specified number of decimal places with trailing zeroes.  \n",
    "Here is an easy way of doing this:"
   ]
  },
  {
   "cell_type": "code",
   "execution_count": 50,
   "metadata": {},
   "outputs": [
    {
     "name": "stdout",
     "output_type": "stream",
     "text": [
      "Previous -> Rounded\n",
      "0.8047815731439303 -> 0.805\n",
      "0.06424134404255855 -> 0.064\n",
      "0.8175429756147696 -> 0.818\n",
      "0.9509185706955149 -> 0.951\n",
      "0.11457166131285468 -> 0.115\n",
      "0.23257686274236988 -> 0.233\n",
      "0.8182787199774624 -> 0.818\n",
      "0.7902498092501803 -> 0.790\n",
      "0.21076158179961024 -> 0.211\n",
      "0.21898131826473766 -> 0.219\n"
     ]
    }
   ],
   "source": [
    "# Rounding to Decimal Places w/ trailing zeros example\n",
    "\n",
    "import random\n",
    "\n",
    "def round_to_places(num, places):\n",
    "    return f'%.{places}f' % round(num, places)\n",
    "\n",
    "# amount of number to generate\n",
    "random_nums = 10\n",
    "decimal_places = 3\n",
    "numbers = [random.random() for _ in range(random_nums)]\n",
    "\n",
    "result = [f\"{num} -> {round_to_places(num, decimal_places)}\" for num in numbers]\n",
    "print(\"Previous -> Rounded\")\n",
    "print('\\n'.join(result))"
   ]
  },
  {
   "cell_type": "markdown",
   "metadata": {},
   "source": [
    "When CodeQuest asks for rounding to a specified number of decimal places, it's normally safe to use the built-in round function"
   ]
  }
 ],
 "metadata": {
  "kernelspec": {
   "display_name": "Python 3",
   "language": "python",
   "name": "python3"
  },
  "language_info": {
   "codemirror_mode": {
    "name": "ipython",
    "version": 3
   },
   "file_extension": ".py",
   "mimetype": "text/x-python",
   "name": "python",
   "nbconvert_exporter": "python",
   "pygments_lexer": "ipython3",
   "version": "3.11.2"
  },
  "orig_nbformat": 4
 },
 "nbformat": 4,
 "nbformat_minor": 2
}
