{
 "cells": [
  {
   "cell_type": "markdown",
   "metadata": {},
   "source": [
    "# Basic Template for CodeQuest Problems"
   ]
  },
  {
   "cell_type": "code",
   "execution_count": null,
   "metadata": {},
   "outputs": [],
   "source": [
    "import math\n",
    "\n",
    "# Use input() to get input as a string. \n",
    "# Use rstrip() to remove trailing spaces/newlines \n",
    "cases = int(input().rstrip())\n",
    "\n",
    "for case in range(cases):\n",
    "    # Solution Code Here\n",
    "\n",
    "    # Print out solution\n",
    "    print(case)"
   ]
  }
 ],
 "metadata": {
  "language_info": {
   "name": "python"
  },
  "orig_nbformat": 4
 },
 "nbformat": 4,
 "nbformat_minor": 2
}
